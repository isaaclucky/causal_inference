{
 "cells": [
  {
   "cell_type": "markdown",
   "metadata": {
    "id": "DvuH_ldTz3BT"
   },
   "source": [
    "# Load Data"
   ]
  },
  {
   "cell_type": "code",
   "execution_count": null,
   "metadata": {
    "id": "BsuSG9YKJKTe"
   },
   "outputs": [],
   "source": [
    "import pandas as pd "
   ]
  },
  {
   "cell_type": "code",
   "execution_count": null,
   "metadata": {
    "colab": {
     "base_uri": "https://localhost:8080/"
    },
    "id": "QxDXzYO4oVh_",
    "outputId": "a0ea3460-2bff-448d-c82a-76104dbeeb21"
   },
   "outputs": [
    {
     "name": "stdout",
     "output_type": "stream",
     "text": [
      "Drive already mounted at /content/drive; to attempt to forcibly remount, call drive.mount(\"/content/drive\", force_remount=True).\n"
     ]
    }
   ],
   "source": [
    "from google.colab import drive\n",
    "drive.mount('/content/drive')"
   ]
  },
  {
   "cell_type": "code",
   "execution_count": null,
   "metadata": {
    "id": "zhLfK8M6JRf7"
   },
   "outputs": [],
   "source": [
    "# !pip install geopy"
   ]
  },
  {
   "cell_type": "code",
   "execution_count": null,
   "metadata": {
    "id": "xfF6gzRnJTJ0"
   },
   "outputs": [],
   "source": [
    "df_driver = pd.read_csv('/content/drive/MyDrive/w9_remote/driver_locations_during_request.csv')\n",
    "data_order = pd.read_csv('/content/drive/MyDrive/w9_remote/nb.csv')\n"
   ]
  },
  {
   "cell_type": "markdown",
   "metadata": {
    "id": "x9v2pBr2z-c8"
   },
   "source": [
    "# Data Preprocessing"
   ]
  },
  {
   "cell_type": "markdown",
   "metadata": {
    "id": "RITBZYI_0CP9"
   },
   "source": [
    "## Clean Dataset - order dataset"
   ]
  },
  {
   "cell_type": "markdown",
   "metadata": {
    "id": "vIIOOaum02Y0"
   },
   "source": [
    "### dataset table"
   ]
  },
  {
   "cell_type": "code",
   "execution_count": null,
   "metadata": {
    "id": "9S7LHxSRjIIg"
   },
   "outputs": [],
   "source": [
    "df_driver.drop(columns=['created_at','updated_at'],inplace=True)"
   ]
  },
  {
   "cell_type": "markdown",
   "metadata": {
    "id": "5lNCKJIj0OEu"
   },
   "source": [
    "### rename dataset columns"
   ]
  },
  {
   "cell_type": "code",
   "execution_count": null,
   "metadata": {
    "id": "o_n6av4lf9mU"
   },
   "outputs": [],
   "source": [
    "df_order = pd.DataFrame()\n",
    "cols = ['trip_id','trip_origin','trip_destination','trip_start_time','trip_end_time']\n",
    "for i in range(len(cols)):\n",
    "  df_order[cols[i]] = data_order.iloc[:,i]"
   ]
  },
  {
   "cell_type": "markdown",
   "metadata": {
    "id": "4kOvn-Bu0Uhc"
   },
   "source": [
    "### split the latitude and longtude and convert them to float\n",
    "\n"
   ]
  },
  {
   "cell_type": "code",
   "execution_count": null,
   "metadata": {
    "id": "73pTh-v-j2xu"
   },
   "outputs": [],
   "source": [
    "origin = df_order[\"trip_origin\"].str.split(\",\", n = 1, expand = True)\n",
    "dest = df_order[\"trip_destination\"].str.split(\",\", n = 1, expand = True)"
   ]
  },
  {
   "cell_type": "code",
   "execution_count": null,
   "metadata": {
    "id": "uzwQ4vjdj94i"
   },
   "outputs": [],
   "source": [
    "df_order['origin_lat'] = origin[0]\n",
    "df_order['origin_lon'] = origin[1]\n",
    "df_order['dest_lat'] = dest[0]\n",
    "df_order['dest_lon'] = dest[1]"
   ]
  },
  {
   "cell_type": "code",
   "execution_count": null,
   "metadata": {
    "id": "uuorD0-KklW7"
   },
   "outputs": [],
   "source": [
    "df_order.drop(columns=['trip_origin','trip_destination'],inplace=True)"
   ]
  },
  {
   "cell_type": "code",
   "execution_count": null,
   "metadata": {
    "colab": {
     "base_uri": "https://localhost:8080/"
    },
    "id": "5Gd2UYm-lW2H",
    "outputId": "fe37f36e-b84a-434f-ab1c-a96bc4fbbd73"
   },
   "outputs": [
    {
     "name": "stdout",
     "output_type": "stream",
     "text": [
      "<class 'pandas.core.frame.DataFrame'>\n",
      "RangeIndex: 536020 entries, 0 to 536019\n",
      "Data columns (total 7 columns):\n",
      " #   Column           Non-Null Count   Dtype \n",
      "---  ------           --------------   ----- \n",
      " 0   trip_id          536020 non-null  int64 \n",
      " 1   trip_start_time  534369 non-null  object\n",
      " 2   trip_end_time    536019 non-null  object\n",
      " 3   origin_lat       536020 non-null  object\n",
      " 4   origin_lon       536020 non-null  object\n",
      " 5   dest_lat         536020 non-null  object\n",
      " 6   dest_lon         536020 non-null  object\n",
      "dtypes: int64(1), object(6)\n",
      "memory usage: 28.6+ MB\n"
     ]
    }
   ],
   "source": [
    "df_order.info()"
   ]
  },
  {
   "cell_type": "code",
   "execution_count": 226,
   "metadata": {
    "colab": {
     "base_uri": "https://localhost:8080/"
    },
    "id": "6N4QwuNFlaAD",
    "outputId": "4ef5b424-6778-4627-b645-341cbe6f9fe2"
   },
   "outputs": [
    {
     "data": {
      "text/plain": [
       "index              0\n",
       "order_id           0\n",
       "trip_start_time    0\n",
       "trip_end_time      0\n",
       "origin_lat         0\n",
       "origin_lon         0\n",
       "dest_lat           0\n",
       "dest_lon           0\n",
       "distance           0\n",
       "duration           0\n",
       "year               0\n",
       "month              0\n",
       "wee                0\n",
       "dtype: int64"
      ]
     },
     "execution_count": 226,
     "metadata": {},
     "output_type": "execute_result"
    }
   ],
   "source": [
    "df_order.isnull().sum()"
   ]
  },
  {
   "cell_type": "code",
   "execution_count": null,
   "metadata": {
    "id": "W9CVjTuot2VI"
   },
   "outputs": [],
   "source": [
    "# !pip install haversine"
   ]
  },
  {
   "cell_type": "code",
   "execution_count": null,
   "metadata": {
    "id": "0sdiwwZVt5v0"
   },
   "outputs": [],
   "source": [
    "# import haversine as hs\n",
    "# from haversine import Unit"
   ]
  },
  {
   "cell_type": "code",
   "execution_count": 225,
   "metadata": {
    "id": "h9UkW7TRu4bE"
   },
   "outputs": [],
   "source": [
    "df_order.dest_lat=df_order.dest_lat.astype(float)\n",
    "df_order.dest_lon=df_order.dest_lon.astype(float)\n",
    "df_order.origin_lat=df_order.origin_lat.astype(float)\n",
    "df_order.origin_lon=df_order.origin_lon.astype(float)"
   ]
  },
  {
   "cell_type": "markdown",
   "metadata": {
    "id": "L2I5rV860lD5"
   },
   "source": [
    "### compute absolute distance"
   ]
  },
  {
   "cell_type": "code",
   "execution_count": null,
   "metadata": {
    "id": "1Dq63jP7ytsc"
   },
   "outputs": [],
   "source": [
    "# from geopy.distance import great_circle as GRC\n"
   ]
  },
  {
   "cell_type": "code",
   "execution_count": null,
   "metadata": {
    "id": "A6SnnJ9U0Eom"
   },
   "outputs": [],
   "source": [
    "from geopy.distance import great_circle as GRC\n"
   ]
  },
  {
   "cell_type": "code",
   "execution_count": null,
   "metadata": {
    "id": "9XCaeouF1WQr"
   },
   "outputs": [],
   "source": [
    "df_order['distance'] = df_order.apply(lambda row: GRC((row['origin_lat'], row['origin_lon']), (row['dest_lat'], row['dest_lon'])).m, axis=1)\n",
    "# df_order['distance_h'] = df_order.apply(lambda row: hs.haversine((row['origin_lat'], row['origin_lon']), (row['dest_lat'], row['dest_lon']),unit='m'), axis=1)\n"
   ]
  },
  {
   "cell_type": "markdown",
   "metadata": {
    "id": "9QLH7YOhyo8I"
   },
   "source": [
    "### absolute distance is zero"
   ]
  },
  {
   "cell_type": "code",
   "execution_count": null,
   "metadata": {
    "id": "PtsauFzEu7X8"
   },
   "outputs": [],
   "source": [
    "df_order[df_order.distance==0]"
   ]
  },
  {
   "cell_type": "code",
   "execution_count": null,
   "metadata": {
    "id": "M8QkTdbevrBZ"
   },
   "outputs": [],
   "source": [
    "df_order"
   ]
  },
  {
   "cell_type": "markdown",
   "metadata": {
    "id": "mmlTGZ1O2yar"
   },
   "source": [
    "### trip start and end time"
   ]
  },
  {
   "cell_type": "code",
   "execution_count": null,
   "metadata": {
    "id": "X_imhb3L5d6X"
   },
   "outputs": [],
   "source": [
    "# drop null entries\n",
    "df_order.dropna(inplace=True)"
   ]
  },
  {
   "cell_type": "code",
   "execution_count": null,
   "metadata": {
    "id": "rg4pmFAsnbJf"
   },
   "outputs": [],
   "source": [
    "df_order['trip_start_time'] = pd.to_datetime(df_order['trip_start_time'])\n",
    "df_order['trip_end_time'] = pd.to_datetime(df_order['trip_end_time'])"
   ]
  },
  {
   "cell_type": "code",
   "execution_count": null,
   "metadata": {
    "id": "yE3Z71qI5RIK"
   },
   "outputs": [],
   "source": [
    "df_order['duration'] = (df_order['trip_end_time'] - df_order['trip_start_time']).dt.total_seconds()"
   ]
  },
  {
   "cell_type": "code",
   "execution_count": null,
   "metadata": {
    "colab": {
     "base_uri": "https://localhost:8080/"
    },
    "id": "jx70P-Rq269h",
    "outputId": "0796dc67-4e79-4d9f-8110-cd94e6f4ab4d"
   },
   "outputs": [
    {
     "data": {
      "text/plain": [
       "0      533410\n",
       "1         576\n",
       "2         151\n",
       "3          67\n",
       "4          41\n",
       "5          36\n",
       "8          10\n",
       "6           9\n",
       "10          8\n",
       "7           6\n",
       "9           5\n",
       "13          3\n",
       "12          3\n",
       "17          3\n",
       "15          2\n",
       "23          2\n",
       "11          2\n",
       "63          2\n",
       "96          2\n",
       "40          2\n",
       "28          2\n",
       "24          2\n",
       "22          1\n",
       "60          1\n",
       "31          1\n",
       "94          1\n",
       "34          1\n",
       "70          1\n",
       "35          1\n",
       "48          1\n",
       "69          1\n",
       "26          1\n",
       "64          1\n",
       "19          1\n",
       "206         1\n",
       "16          1\n",
       "29          1\n",
       "100         1\n",
       "107         1\n",
       "25          1\n",
       "36          1\n",
       "61          1\n",
       "21          1\n",
       "62          1\n",
       "86          1\n",
       "18          1\n",
       "dtype: int64"
      ]
     },
     "execution_count": 28,
     "metadata": {},
     "output_type": "execute_result"
    }
   ],
   "source": [
    "(df_order['trip_end_time'] - df_order['trip_start_time']).dt.days.value_counts()"
   ]
  },
  {
   "cell_type": "markdown",
   "metadata": {
    "id": "C9x08wbA3S0A"
   },
   "source": [
    "* zero trip duration"
   ]
  },
  {
   "cell_type": "code",
   "execution_count": 227,
   "metadata": {
    "colab": {
     "base_uri": "https://localhost:8080/"
    },
    "id": "ICdD5dAK6P0_",
    "outputId": "25152620-09b9-46dc-823a-76ea42285bd6"
   },
   "outputs": [
    {
     "data": {
      "text/plain": [
       "180279    0.0\n",
       "189522    0.0\n",
       "292391    0.0\n",
       "469578    0.0\n",
       "501343    0.0\n",
       "Name: duration, dtype: float64"
      ]
     },
     "execution_count": 227,
     "metadata": {},
     "output_type": "execute_result"
    }
   ],
   "source": [
    "df_order[df_order.duration == df_order.duration.min()].duration"
   ]
  },
  {
   "cell_type": "code",
   "execution_count": null,
   "metadata": {
    "colab": {
     "base_uri": "https://localhost:8080/"
    },
    "id": "OMlOfqCy_hK0",
    "outputId": "7601ed56-b356-411e-fe37-b2f9135ac3ef"
   },
   "outputs": [
    {
     "data": {
      "text/plain": [
       "trip_id            0\n",
       "trip_start_time    0\n",
       "trip_end_time      0\n",
       "origin_lat         0\n",
       "origin_lon         0\n",
       "dest_lat           0\n",
       "dest_lon           0\n",
       "distance           0\n",
       "duration           0\n",
       "dtype: int64"
      ]
     },
     "execution_count": 30,
     "metadata": {},
     "output_type": "execute_result"
    }
   ],
   "source": [
    "df_order.isnull().sum()\n"
   ]
  },
  {
   "cell_type": "code",
   "execution_count": null,
   "metadata": {
    "colab": {
     "base_uri": "https://localhost:8080/"
    },
    "id": "X87dY3PlnMUb",
    "outputId": "68983b66-3a67-4b47-b0c2-6a6a6a4c7f7d"
   },
   "outputs": [
    {
     "data": {
      "text/plain": [
       "trip_id            534368\n",
       "trip_start_time    512515\n",
       "trip_end_time      512782\n",
       "origin_lat         110170\n",
       "origin_lon         107207\n",
       "dest_lat           144210\n",
       "dest_lon           140378\n",
       "distance           474019\n",
       "duration            23205\n",
       "dtype: int64"
      ]
     },
     "execution_count": 31,
     "metadata": {},
     "output_type": "execute_result"
    }
   ],
   "source": [
    "df_order.nunique()"
   ]
  },
  {
   "cell_type": "markdown",
   "metadata": {
    "id": "fAFLbIZxzxCO"
   },
   "source": [
    "### zero duration columns"
   ]
  },
  {
   "cell_type": "code",
   "execution_count": null,
   "metadata": {
    "id": "l4BUYQUxAynH"
   },
   "outputs": [],
   "source": [
    "\n",
    "df_order[df_order.duration==0]"
   ]
  },
  {
   "cell_type": "markdown",
   "metadata": {
    "id": "oOZKUA5Z3rCz"
   },
   "source": [
    "### largest duration columns"
   ]
  },
  {
   "cell_type": "code",
   "execution_count": null,
   "metadata": {
    "colab": {
     "base_uri": "https://localhost:8080/"
    },
    "id": "P1fIor1hs2Ti",
    "outputId": "17f7d659-d93a-4e81-d692-d45c6bc4b62a"
   },
   "outputs": [
    {
     "data": {
      "text/plain": [
       "328184    17813706.0\n",
       "240058     9309381.0\n",
       "264209     8710336.0\n",
       "302979     8355797.0\n",
       "140962     8301181.0\n",
       "Name: duration, dtype: float64"
      ]
     },
     "execution_count": 38,
     "metadata": {},
     "output_type": "execute_result"
    }
   ],
   "source": [
    "df_order.duration.nlargest(5)"
   ]
  },
  {
   "cell_type": "code",
   "execution_count": null,
   "metadata": {
    "id": "JvW3gzAOCv1q"
   },
   "outputs": [],
   "source": [
    "df_order.reset_index(inplace=True)"
   ]
  },
  {
   "cell_type": "code",
   "execution_count": null,
   "metadata": {
    "colab": {
     "base_uri": "https://localhost:8080/"
    },
    "id": "9EM-Pp09CkDc",
    "outputId": "fff7e5d3-50c3-402d-d8c2-d3363bb404d1"
   },
   "outputs": [
    {
     "data": {
      "text/plain": [
       "327898    17813706.0\n",
       "239866     9309381.0\n",
       "263987     8710336.0\n",
       "302722     8355797.0\n",
       "140844     8301181.0\n",
       "Name: duration, dtype: float64"
      ]
     },
     "execution_count": 40,
     "metadata": {},
     "output_type": "execute_result"
    }
   ],
   "source": [
    "df_order.duration.nlargest(5)"
   ]
  },
  {
   "cell_type": "markdown",
   "metadata": {
    "id": "_D78El_Q4QvT"
   },
   "source": [
    "### new features"
   ]
  },
  {
   "cell_type": "code",
   "execution_count": 228,
   "metadata": {
    "id": "B7-928nz4Soz"
   },
   "outputs": [],
   "source": [
    "df_order['year'] = df_order['trip_start_time'].dt.year\n",
    "df_order['month'] = df_order['trip_start_time'].dt.month\n",
    "df_order['hour'] = df_order['trip_start_time'].dt.hour"
   ]
  },
  {
   "cell_type": "code",
   "execution_count": 230,
   "metadata": {
    "id": "qvYQ5siwg5ge"
   },
   "outputs": [],
   "source": [
    "df_order.drop(columns=['wee'],inplace=True)"
   ]
  },
  {
   "cell_type": "code",
   "execution_count": 233,
   "metadata": {
    "colab": {
     "base_uri": "https://localhost:8080/"
    },
    "id": "kyeciHe-4hMU",
    "outputId": "9b0ff817-25d0-41fb-da17-b2f4477bf13a"
   },
   "outputs": [
    {
     "data": {
      "text/plain": [
       "array([ 7,  6,  9, 10,  8, 11, 13, 12, 14, 15, 16, 17, 18, 19, 20, 21, 23,\n",
       "        2,  0,  5, 22,  1,  4,  3])"
      ]
     },
     "execution_count": 233,
     "metadata": {},
     "output_type": "execute_result"
    }
   ],
   "source": [
    "df_order.hour.unique()"
   ]
  },
  {
   "cell_type": "code",
   "execution_count": null,
   "metadata": {
    "id": "wDIr8sgohIw2"
   },
   "outputs": [],
   "source": [
    "df_order"
   ]
  },
  {
   "cell_type": "code",
   "execution_count": 238,
   "metadata": {
    "id": "lm9oIKzQhadq"
   },
   "outputs": [],
   "source": [
    "df_order.to_csv('df_order.csv',index_label=None)"
   ]
  },
  {
   "cell_type": "markdown",
   "metadata": {
    "id": "Ao0zjUfe3voQ"
   },
   "source": [
    "## Clean Dataset - Data Driver"
   ]
  },
  {
   "cell_type": "markdown",
   "metadata": {
    "id": "02Vp4Ssh3xui"
   },
   "source": [
    "### data driver table"
   ]
  },
  {
   "cell_type": "code",
   "execution_count": null,
   "metadata": {
    "id": "J31u8_lM31bq"
   },
   "outputs": [],
   "source": [
    "df_driver.head()"
   ]
  },
  {
   "cell_type": "code",
   "execution_count": null,
   "metadata": {
    "colab": {
     "base_uri": "https://localhost:8080/"
    },
    "id": "AOD9UlTBB4i7",
    "outputId": "fa9daba8-cfaf-4862-e649-83e0e388609c"
   },
   "outputs": [
    {
     "data": {
      "text/plain": [
       "id                 int64\n",
       "order_id           int64\n",
       "driver_id          int64\n",
       "driver_action     object\n",
       "lat              float64\n",
       "lng              float64\n",
       "dtype: object"
      ]
     },
     "execution_count": 45,
     "metadata": {},
     "output_type": "execute_result"
    }
   ],
   "source": [
    "df_driver.dtypes"
   ]
  },
  {
   "cell_type": "markdown",
   "metadata": {
    "id": "c2-_Bjfi8d5A"
   },
   "source": [
    "### acceptance value counts"
   ]
  },
  {
   "cell_type": "code",
   "execution_count": null,
   "metadata": {
    "colab": {
     "base_uri": "https://localhost:8080/"
    },
    "id": "_4l5eDfbDPcb",
    "outputId": "00703488-67f0-445c-f8e9-e18e9827f7f5"
   },
   "outputs": [
    {
     "data": {
      "text/plain": [
       "rejected    1531837\n",
       "accepted      25903\n",
       "Name: driver_action, dtype: int64"
      ]
     },
     "execution_count": 46,
     "metadata": {},
     "output_type": "execute_result"
    }
   ],
   "source": [
    "df_driver.driver_action.value_counts()"
   ]
  },
  {
   "cell_type": "markdown",
   "metadata": {
    "id": "5LTetnq98l3V"
   },
   "source": [
    "## Merge the datasets"
   ]
  },
  {
   "cell_type": "code",
   "execution_count": 239,
   "metadata": {
    "id": "tJSZSbAt_bYM"
   },
   "outputs": [],
   "source": [
    "df_order.rename(columns = {'trip_id':'order_id'},inplace=True)"
   ]
  },
  {
   "cell_type": "code",
   "execution_count": 240,
   "metadata": {
    "id": "sBhlidBF7WZl"
   },
   "outputs": [],
   "source": [
    "df = df_driver.merge(df_order,how='inner',on='order_id')"
   ]
  },
  {
   "cell_type": "code",
   "execution_count": 241,
   "metadata": {
    "colab": {
     "base_uri": "https://localhost:8080/"
    },
    "id": "OmZHQ8RgBNBY",
    "outputId": "97c69c31-b48b-4cd8-9e76-52c78b06458c"
   },
   "outputs": [
    {
     "data": {
      "text/plain": [
       "26458"
      ]
     },
     "execution_count": 241,
     "metadata": {},
     "output_type": "execute_result"
    }
   ],
   "source": [
    "df.order_id.nunique()"
   ]
  },
  {
   "cell_type": "code",
   "execution_count": 242,
   "metadata": {
    "colab": {
     "base_uri": "https://localhost:8080/"
    },
    "id": "Ks1yCKcCBUNu",
    "outputId": "a9964f08-2b1e-4968-b7c3-da1b705e985f"
   },
   "outputs": [
    {
     "data": {
      "text/plain": [
       "rejected    1529847\n",
       "accepted      25871\n",
       "Name: driver_action, dtype: int64"
      ]
     },
     "execution_count": 242,
     "metadata": {},
     "output_type": "execute_result"
    }
   ],
   "source": [
    "df.driver_action.value_counts()"
   ]
  },
  {
   "cell_type": "code",
   "execution_count": 244,
   "metadata": {
    "id": "vsYxphE6CzJq"
   },
   "outputs": [],
   "source": [
    "df.drop(columns=['id'],inplace=True)"
   ]
  },
  {
   "cell_type": "code",
   "execution_count": 246,
   "metadata": {
    "colab": {
     "base_uri": "https://localhost:8080/",
     "height": 364
    },
    "id": "g1SPFEuwC5hL",
    "outputId": "ef009a44-94a0-432b-e8fe-996cfb71cd10"
   },
   "outputs": [
    {
     "data": {
      "text/html": [
       "\n",
       "  <div id=\"df-840a455d-2dd5-4871-a092-098caa060427\">\n",
       "    <div class=\"colab-df-container\">\n",
       "      <div>\n",
       "<style scoped>\n",
       "    .dataframe tbody tr th:only-of-type {\n",
       "        vertical-align: middle;\n",
       "    }\n",
       "\n",
       "    .dataframe tbody tr th {\n",
       "        vertical-align: top;\n",
       "    }\n",
       "\n",
       "    .dataframe thead th {\n",
       "        text-align: right;\n",
       "    }\n",
       "</style>\n",
       "<table border=\"1\" class=\"dataframe\">\n",
       "  <thead>\n",
       "    <tr style=\"text-align: right;\">\n",
       "      <th></th>\n",
       "      <th>order_id</th>\n",
       "      <th>driver_id</th>\n",
       "      <th>lat</th>\n",
       "      <th>lng</th>\n",
       "      <th>origin_lat</th>\n",
       "      <th>origin_lon</th>\n",
       "      <th>dest_lat</th>\n",
       "      <th>dest_lon</th>\n",
       "      <th>distance</th>\n",
       "      <th>duration</th>\n",
       "      <th>year</th>\n",
       "      <th>month</th>\n",
       "      <th>hour</th>\n",
       "    </tr>\n",
       "  </thead>\n",
       "  <tbody>\n",
       "    <tr>\n",
       "      <th>count</th>\n",
       "      <td>1.555718e+06</td>\n",
       "      <td>1.555718e+06</td>\n",
       "      <td>1.555718e+06</td>\n",
       "      <td>1.555718e+06</td>\n",
       "      <td>1.555718e+06</td>\n",
       "      <td>1.555718e+06</td>\n",
       "      <td>1.555718e+06</td>\n",
       "      <td>1.555718e+06</td>\n",
       "      <td>1.555718e+06</td>\n",
       "      <td>1.555718e+06</td>\n",
       "      <td>1.555718e+06</td>\n",
       "      <td>1.555718e+06</td>\n",
       "      <td>1.555718e+06</td>\n",
       "    </tr>\n",
       "    <tr>\n",
       "      <th>mean</th>\n",
       "      <td>4.191817e+05</td>\n",
       "      <td>2.341504e+05</td>\n",
       "      <td>6.536075e+00</td>\n",
       "      <td>3.378822e+00</td>\n",
       "      <td>6.535654e+00</td>\n",
       "      <td>3.380029e+00</td>\n",
       "      <td>6.536117e+00</td>\n",
       "      <td>3.383491e+00</td>\n",
       "      <td>8.489182e+03</td>\n",
       "      <td>3.705213e+03</td>\n",
       "      <td>2.021000e+03</td>\n",
       "      <td>6.999965e+00</td>\n",
       "      <td>1.356604e+01</td>\n",
       "    </tr>\n",
       "    <tr>\n",
       "      <th>std</th>\n",
       "      <td>1.444435e+04</td>\n",
       "      <td>2.270439e+04</td>\n",
       "      <td>5.995268e-02</td>\n",
       "      <td>5.329471e-02</td>\n",
       "      <td>6.026214e-02</td>\n",
       "      <td>5.275148e-02</td>\n",
       "      <td>7.310955e-02</td>\n",
       "      <td>7.487250e-02</td>\n",
       "      <td>6.349889e+03</td>\n",
       "      <td>7.806279e+03</td>\n",
       "      <td>7.170815e-03</td>\n",
       "      <td>4.028703e-02</td>\n",
       "      <td>3.026006e+00</td>\n",
       "    </tr>\n",
       "    <tr>\n",
       "      <th>min</th>\n",
       "      <td>3.920010e+05</td>\n",
       "      <td>1.219810e+05</td>\n",
       "      <td>6.409333e+00</td>\n",
       "      <td>3.076561e+00</td>\n",
       "      <td>1.000000e+00</td>\n",
       "      <td>1.000000e+00</td>\n",
       "      <td>1.000000e+00</td>\n",
       "      <td>1.000000e+00</td>\n",
       "      <td>1.647106e+01</td>\n",
       "      <td>1.600000e+01</td>\n",
       "      <td>2.021000e+03</td>\n",
       "      <td>1.000000e+00</td>\n",
       "      <td>0.000000e+00</td>\n",
       "    </tr>\n",
       "    <tr>\n",
       "      <th>25%</th>\n",
       "      <td>4.067520e+05</td>\n",
       "      <td>2.429970e+05</td>\n",
       "      <td>6.498708e+00</td>\n",
       "      <td>3.348810e+00</td>\n",
       "      <td>6.499314e+00</td>\n",
       "      <td>3.350294e+00</td>\n",
       "      <td>6.465051e+00</td>\n",
       "      <td>3.342701e+00</td>\n",
       "      <td>4.008269e+03</td>\n",
       "      <td>1.722000e+03</td>\n",
       "      <td>2.021000e+03</td>\n",
       "      <td>7.000000e+00</td>\n",
       "      <td>1.100000e+01</td>\n",
       "    </tr>\n",
       "    <tr>\n",
       "      <th>50%</th>\n",
       "      <td>4.216870e+05</td>\n",
       "      <td>2.435890e+05</td>\n",
       "      <td>6.544250e+00</td>\n",
       "      <td>3.363503e+00</td>\n",
       "      <td>6.537572e+00</td>\n",
       "      <td>3.368576e+00</td>\n",
       "      <td>6.536838e+00</td>\n",
       "      <td>3.369805e+00</td>\n",
       "      <td>6.919488e+03</td>\n",
       "      <td>2.608000e+03</td>\n",
       "      <td>2.021000e+03</td>\n",
       "      <td>7.000000e+00</td>\n",
       "      <td>1.400000e+01</td>\n",
       "    </tr>\n",
       "    <tr>\n",
       "      <th>75%</th>\n",
       "      <td>4.293130e+05</td>\n",
       "      <td>2.440560e+05</td>\n",
       "      <td>6.593277e+00</td>\n",
       "      <td>3.385168e+00</td>\n",
       "      <td>6.591381e+00</td>\n",
       "      <td>3.387167e+00</td>\n",
       "      <td>6.596473e+00</td>\n",
       "      <td>3.406328e+00</td>\n",
       "      <td>1.131920e+04</td>\n",
       "      <td>3.922000e+03</td>\n",
       "      <td>2.021000e+03</td>\n",
       "      <td>7.000000e+00</td>\n",
       "      <td>1.600000e+01</td>\n",
       "    </tr>\n",
       "    <tr>\n",
       "      <th>max</th>\n",
       "      <td>5.179480e+05</td>\n",
       "      <td>2.478770e+05</td>\n",
       "      <td>7.702536e+00</td>\n",
       "      <td>8.515414e+00</td>\n",
       "      <td>8.226835e+00</td>\n",
       "      <td>8.522293e+00</td>\n",
       "      <td>7.703160e+00</td>\n",
       "      <td>8.607887e+00</td>\n",
       "      <td>6.828784e+05</td>\n",
       "      <td>2.234210e+06</td>\n",
       "      <td>2.022000e+03</td>\n",
       "      <td>9.000000e+00</td>\n",
       "      <td>2.300000e+01</td>\n",
       "    </tr>\n",
       "  </tbody>\n",
       "</table>\n",
       "</div>\n",
       "      <button class=\"colab-df-convert\" onclick=\"convertToInteractive('df-840a455d-2dd5-4871-a092-098caa060427')\"\n",
       "              title=\"Convert this dataframe to an interactive table.\"\n",
       "              style=\"display:none;\">\n",
       "        \n",
       "  <svg xmlns=\"http://www.w3.org/2000/svg\" height=\"24px\"viewBox=\"0 0 24 24\"\n",
       "       width=\"24px\">\n",
       "    <path d=\"M0 0h24v24H0V0z\" fill=\"none\"/>\n",
       "    <path d=\"M18.56 5.44l.94 2.06.94-2.06 2.06-.94-2.06-.94-.94-2.06-.94 2.06-2.06.94zm-11 1L8.5 8.5l.94-2.06 2.06-.94-2.06-.94L8.5 2.5l-.94 2.06-2.06.94zm10 10l.94 2.06.94-2.06 2.06-.94-2.06-.94-.94-2.06-.94 2.06-2.06.94z\"/><path d=\"M17.41 7.96l-1.37-1.37c-.4-.4-.92-.59-1.43-.59-.52 0-1.04.2-1.43.59L10.3 9.45l-7.72 7.72c-.78.78-.78 2.05 0 2.83L4 21.41c.39.39.9.59 1.41.59.51 0 1.02-.2 1.41-.59l7.78-7.78 2.81-2.81c.8-.78.8-2.07 0-2.86zM5.41 20L4 18.59l7.72-7.72 1.47 1.35L5.41 20z\"/>\n",
       "  </svg>\n",
       "      </button>\n",
       "      \n",
       "  <style>\n",
       "    .colab-df-container {\n",
       "      display:flex;\n",
       "      flex-wrap:wrap;\n",
       "      gap: 12px;\n",
       "    }\n",
       "\n",
       "    .colab-df-convert {\n",
       "      background-color: #E8F0FE;\n",
       "      border: none;\n",
       "      border-radius: 50%;\n",
       "      cursor: pointer;\n",
       "      display: none;\n",
       "      fill: #1967D2;\n",
       "      height: 32px;\n",
       "      padding: 0 0 0 0;\n",
       "      width: 32px;\n",
       "    }\n",
       "\n",
       "    .colab-df-convert:hover {\n",
       "      background-color: #E2EBFA;\n",
       "      box-shadow: 0px 1px 2px rgba(60, 64, 67, 0.3), 0px 1px 3px 1px rgba(60, 64, 67, 0.15);\n",
       "      fill: #174EA6;\n",
       "    }\n",
       "\n",
       "    [theme=dark] .colab-df-convert {\n",
       "      background-color: #3B4455;\n",
       "      fill: #D2E3FC;\n",
       "    }\n",
       "\n",
       "    [theme=dark] .colab-df-convert:hover {\n",
       "      background-color: #434B5C;\n",
       "      box-shadow: 0px 1px 3px 1px rgba(0, 0, 0, 0.15);\n",
       "      filter: drop-shadow(0px 1px 2px rgba(0, 0, 0, 0.3));\n",
       "      fill: #FFFFFF;\n",
       "    }\n",
       "  </style>\n",
       "\n",
       "      <script>\n",
       "        const buttonEl =\n",
       "          document.querySelector('#df-840a455d-2dd5-4871-a092-098caa060427 button.colab-df-convert');\n",
       "        buttonEl.style.display =\n",
       "          google.colab.kernel.accessAllowed ? 'block' : 'none';\n",
       "\n",
       "        async function convertToInteractive(key) {\n",
       "          const element = document.querySelector('#df-840a455d-2dd5-4871-a092-098caa060427');\n",
       "          const dataTable =\n",
       "            await google.colab.kernel.invokeFunction('convertToInteractive',\n",
       "                                                     [key], {});\n",
       "          if (!dataTable) return;\n",
       "\n",
       "          const docLinkHtml = 'Like what you see? Visit the ' +\n",
       "            '<a target=\"_blank\" href=https://colab.research.google.com/notebooks/data_table.ipynb>data table notebook</a>'\n",
       "            + ' to learn more about interactive tables.';\n",
       "          element.innerHTML = '';\n",
       "          dataTable['output_type'] = 'display_data';\n",
       "          await google.colab.output.renderOutput(dataTable, element);\n",
       "          const docLink = document.createElement('div');\n",
       "          docLink.innerHTML = docLinkHtml;\n",
       "          element.appendChild(docLink);\n",
       "        }\n",
       "      </script>\n",
       "    </div>\n",
       "  </div>\n",
       "  "
      ],
      "text/plain": [
       "           order_id     driver_id           lat           lng    origin_lat  \\\n",
       "count  1.555718e+06  1.555718e+06  1.555718e+06  1.555718e+06  1.555718e+06   \n",
       "mean   4.191817e+05  2.341504e+05  6.536075e+00  3.378822e+00  6.535654e+00   \n",
       "std    1.444435e+04  2.270439e+04  5.995268e-02  5.329471e-02  6.026214e-02   \n",
       "min    3.920010e+05  1.219810e+05  6.409333e+00  3.076561e+00  1.000000e+00   \n",
       "25%    4.067520e+05  2.429970e+05  6.498708e+00  3.348810e+00  6.499314e+00   \n",
       "50%    4.216870e+05  2.435890e+05  6.544250e+00  3.363503e+00  6.537572e+00   \n",
       "75%    4.293130e+05  2.440560e+05  6.593277e+00  3.385168e+00  6.591381e+00   \n",
       "max    5.179480e+05  2.478770e+05  7.702536e+00  8.515414e+00  8.226835e+00   \n",
       "\n",
       "         origin_lon      dest_lat      dest_lon      distance      duration  \\\n",
       "count  1.555718e+06  1.555718e+06  1.555718e+06  1.555718e+06  1.555718e+06   \n",
       "mean   3.380029e+00  6.536117e+00  3.383491e+00  8.489182e+03  3.705213e+03   \n",
       "std    5.275148e-02  7.310955e-02  7.487250e-02  6.349889e+03  7.806279e+03   \n",
       "min    1.000000e+00  1.000000e+00  1.000000e+00  1.647106e+01  1.600000e+01   \n",
       "25%    3.350294e+00  6.465051e+00  3.342701e+00  4.008269e+03  1.722000e+03   \n",
       "50%    3.368576e+00  6.536838e+00  3.369805e+00  6.919488e+03  2.608000e+03   \n",
       "75%    3.387167e+00  6.596473e+00  3.406328e+00  1.131920e+04  3.922000e+03   \n",
       "max    8.522293e+00  7.703160e+00  8.607887e+00  6.828784e+05  2.234210e+06   \n",
       "\n",
       "               year         month          hour  \n",
       "count  1.555718e+06  1.555718e+06  1.555718e+06  \n",
       "mean   2.021000e+03  6.999965e+00  1.356604e+01  \n",
       "std    7.170815e-03  4.028703e-02  3.026006e+00  \n",
       "min    2.021000e+03  1.000000e+00  0.000000e+00  \n",
       "25%    2.021000e+03  7.000000e+00  1.100000e+01  \n",
       "50%    2.021000e+03  7.000000e+00  1.400000e+01  \n",
       "75%    2.021000e+03  7.000000e+00  1.600000e+01  \n",
       "max    2.022000e+03  9.000000e+00  2.300000e+01  "
      ]
     },
     "execution_count": 246,
     "metadata": {},
     "output_type": "execute_result"
    }
   ],
   "source": [
    "df.describe()"
   ]
  },
  {
   "cell_type": "code",
   "execution_count": 247,
   "metadata": {
    "colab": {
     "base_uri": "https://localhost:8080/"
    },
    "id": "ZSqik6FDDBb3",
    "outputId": "0b98d810-162d-4d08-fed1-5b0db8ba8be0"
   },
   "outputs": [
    {
     "data": {
      "text/plain": [
       "((1555718, 16), (1557740, 6), (534368, 12))"
      ]
     },
     "execution_count": 247,
     "metadata": {},
     "output_type": "execute_result"
    }
   ],
   "source": [
    "df.shape, df_driver.shape, df_order.shape"
   ]
  },
  {
   "cell_type": "code",
   "execution_count": 248,
   "metadata": {
    "id": "30ZFroVZBjlv"
   },
   "outputs": [],
   "source": [
    "df_accepted = df[df.driver_action=='accepted'].copy(deep=True)"
   ]
  },
  {
   "cell_type": "code",
   "execution_count": 249,
   "metadata": {
    "id": "I7H-kSxTBvNY"
   },
   "outputs": [],
   "source": [
    "df_accepted.drop(columns=['driver_action'],inplace=True)"
   ]
  },
  {
   "cell_type": "code",
   "execution_count": 250,
   "metadata": {
    "id": "MdowfsVtE0cL"
   },
   "outputs": [],
   "source": [
    "df_accepted.reset_index(inplace=True)"
   ]
  },
  {
   "cell_type": "code",
   "execution_count": 251,
   "metadata": {
    "id": "iyJg1PgjCfSm"
   },
   "outputs": [],
   "source": [
    "df_accepted.drop(columns=['index'],inplace=True)"
   ]
  },
  {
   "cell_type": "code",
   "execution_count": 253,
   "metadata": {
    "colab": {
     "base_uri": "https://localhost:8080/",
     "height": 364
    },
    "id": "O2koUqNRFXmo",
    "outputId": "78ac5828-fb6e-4b37-9099-9da3a263d325"
   },
   "outputs": [
    {
     "data": {
      "text/html": [
       "\n",
       "  <div id=\"df-746f9bee-ab43-441d-9239-027b4464b968\">\n",
       "    <div class=\"colab-df-container\">\n",
       "      <div>\n",
       "<style scoped>\n",
       "    .dataframe tbody tr th:only-of-type {\n",
       "        vertical-align: middle;\n",
       "    }\n",
       "\n",
       "    .dataframe tbody tr th {\n",
       "        vertical-align: top;\n",
       "    }\n",
       "\n",
       "    .dataframe thead th {\n",
       "        text-align: right;\n",
       "    }\n",
       "</style>\n",
       "<table border=\"1\" class=\"dataframe\">\n",
       "  <thead>\n",
       "    <tr style=\"text-align: right;\">\n",
       "      <th></th>\n",
       "      <th>order_id</th>\n",
       "      <th>driver_id</th>\n",
       "      <th>lat</th>\n",
       "      <th>lng</th>\n",
       "      <th>origin_lat</th>\n",
       "      <th>origin_lon</th>\n",
       "      <th>dest_lat</th>\n",
       "      <th>dest_lon</th>\n",
       "      <th>distance</th>\n",
       "      <th>duration</th>\n",
       "      <th>year</th>\n",
       "      <th>month</th>\n",
       "      <th>hour</th>\n",
       "    </tr>\n",
       "  </thead>\n",
       "  <tbody>\n",
       "    <tr>\n",
       "      <th>count</th>\n",
       "      <td>25871.000000</td>\n",
       "      <td>25871.000000</td>\n",
       "      <td>25871.000000</td>\n",
       "      <td>25871.000000</td>\n",
       "      <td>25871.000000</td>\n",
       "      <td>25871.000000</td>\n",
       "      <td>25871.000000</td>\n",
       "      <td>25871.000000</td>\n",
       "      <td>25871.000000</td>\n",
       "      <td>25871.000000</td>\n",
       "      <td>25871.000000</td>\n",
       "      <td>25871.000000</td>\n",
       "      <td>25871.000000</td>\n",
       "    </tr>\n",
       "    <tr>\n",
       "      <th>mean</th>\n",
       "      <td>420032.315025</td>\n",
       "      <td>236950.182869</td>\n",
       "      <td>6.528154</td>\n",
       "      <td>3.389208</td>\n",
       "      <td>6.528024</td>\n",
       "      <td>3.389423</td>\n",
       "      <td>6.522929</td>\n",
       "      <td>3.401055</td>\n",
       "      <td>11536.180757</td>\n",
       "      <td>3772.363109</td>\n",
       "      <td>2021.000116</td>\n",
       "      <td>6.999536</td>\n",
       "      <td>13.229717</td>\n",
       "    </tr>\n",
       "    <tr>\n",
       "      <th>std</th>\n",
       "      <td>16506.709366</td>\n",
       "      <td>19629.496290</td>\n",
       "      <td>0.071303</td>\n",
       "      <td>0.080260</td>\n",
       "      <td>0.079433</td>\n",
       "      <td>0.081154</td>\n",
       "      <td>0.102009</td>\n",
       "      <td>0.098738</td>\n",
       "      <td>12136.372978</td>\n",
       "      <td>7115.513966</td>\n",
       "      <td>0.010768</td>\n",
       "      <td>0.060277</td>\n",
       "      <td>3.102313</td>\n",
       "    </tr>\n",
       "    <tr>\n",
       "      <th>min</th>\n",
       "      <td>392001.000000</td>\n",
       "      <td>121981.000000</td>\n",
       "      <td>6.415885</td>\n",
       "      <td>3.076561</td>\n",
       "      <td>1.000000</td>\n",
       "      <td>1.000000</td>\n",
       "      <td>1.000000</td>\n",
       "      <td>1.000000</td>\n",
       "      <td>16.471055</td>\n",
       "      <td>16.000000</td>\n",
       "      <td>2021.000000</td>\n",
       "      <td>1.000000</td>\n",
       "      <td>0.000000</td>\n",
       "    </tr>\n",
       "    <tr>\n",
       "      <th>25%</th>\n",
       "      <td>405690.500000</td>\n",
       "      <td>243203.000000</td>\n",
       "      <td>6.453507</td>\n",
       "      <td>3.343523</td>\n",
       "      <td>6.455103</td>\n",
       "      <td>3.345503</td>\n",
       "      <td>6.449389</td>\n",
       "      <td>3.346477</td>\n",
       "      <td>5369.247981</td>\n",
       "      <td>1668.000000</td>\n",
       "      <td>2021.000000</td>\n",
       "      <td>7.000000</td>\n",
       "      <td>11.000000</td>\n",
       "    </tr>\n",
       "    <tr>\n",
       "      <th>50%</th>\n",
       "      <td>420379.000000</td>\n",
       "      <td>243679.000000</td>\n",
       "      <td>6.527532</td>\n",
       "      <td>3.369349</td>\n",
       "      <td>6.527243</td>\n",
       "      <td>3.371989</td>\n",
       "      <td>6.514889</td>\n",
       "      <td>3.379300</td>\n",
       "      <td>9816.814170</td>\n",
       "      <td>2776.000000</td>\n",
       "      <td>2021.000000</td>\n",
       "      <td>7.000000</td>\n",
       "      <td>13.000000</td>\n",
       "    </tr>\n",
       "    <tr>\n",
       "      <th>75%</th>\n",
       "      <td>434017.500000</td>\n",
       "      <td>244147.000000</td>\n",
       "      <td>6.594942</td>\n",
       "      <td>3.427251</td>\n",
       "      <td>6.594339</td>\n",
       "      <td>3.423915</td>\n",
       "      <td>6.593874</td>\n",
       "      <td>3.460672</td>\n",
       "      <td>15841.895164</td>\n",
       "      <td>4243.000000</td>\n",
       "      <td>2021.000000</td>\n",
       "      <td>7.000000</td>\n",
       "      <td>16.000000</td>\n",
       "    </tr>\n",
       "    <tr>\n",
       "      <th>max</th>\n",
       "      <td>517948.000000</td>\n",
       "      <td>247877.000000</td>\n",
       "      <td>7.702536</td>\n",
       "      <td>8.515414</td>\n",
       "      <td>8.226835</td>\n",
       "      <td>8.522293</td>\n",
       "      <td>7.703160</td>\n",
       "      <td>8.607887</td>\n",
       "      <td>682878.368122</td>\n",
       "      <td>326248.000000</td>\n",
       "      <td>2022.000000</td>\n",
       "      <td>9.000000</td>\n",
       "      <td>23.000000</td>\n",
       "    </tr>\n",
       "  </tbody>\n",
       "</table>\n",
       "</div>\n",
       "      <button class=\"colab-df-convert\" onclick=\"convertToInteractive('df-746f9bee-ab43-441d-9239-027b4464b968')\"\n",
       "              title=\"Convert this dataframe to an interactive table.\"\n",
       "              style=\"display:none;\">\n",
       "        \n",
       "  <svg xmlns=\"http://www.w3.org/2000/svg\" height=\"24px\"viewBox=\"0 0 24 24\"\n",
       "       width=\"24px\">\n",
       "    <path d=\"M0 0h24v24H0V0z\" fill=\"none\"/>\n",
       "    <path d=\"M18.56 5.44l.94 2.06.94-2.06 2.06-.94-2.06-.94-.94-2.06-.94 2.06-2.06.94zm-11 1L8.5 8.5l.94-2.06 2.06-.94-2.06-.94L8.5 2.5l-.94 2.06-2.06.94zm10 10l.94 2.06.94-2.06 2.06-.94-2.06-.94-.94-2.06-.94 2.06-2.06.94z\"/><path d=\"M17.41 7.96l-1.37-1.37c-.4-.4-.92-.59-1.43-.59-.52 0-1.04.2-1.43.59L10.3 9.45l-7.72 7.72c-.78.78-.78 2.05 0 2.83L4 21.41c.39.39.9.59 1.41.59.51 0 1.02-.2 1.41-.59l7.78-7.78 2.81-2.81c.8-.78.8-2.07 0-2.86zM5.41 20L4 18.59l7.72-7.72 1.47 1.35L5.41 20z\"/>\n",
       "  </svg>\n",
       "      </button>\n",
       "      \n",
       "  <style>\n",
       "    .colab-df-container {\n",
       "      display:flex;\n",
       "      flex-wrap:wrap;\n",
       "      gap: 12px;\n",
       "    }\n",
       "\n",
       "    .colab-df-convert {\n",
       "      background-color: #E8F0FE;\n",
       "      border: none;\n",
       "      border-radius: 50%;\n",
       "      cursor: pointer;\n",
       "      display: none;\n",
       "      fill: #1967D2;\n",
       "      height: 32px;\n",
       "      padding: 0 0 0 0;\n",
       "      width: 32px;\n",
       "    }\n",
       "\n",
       "    .colab-df-convert:hover {\n",
       "      background-color: #E2EBFA;\n",
       "      box-shadow: 0px 1px 2px rgba(60, 64, 67, 0.3), 0px 1px 3px 1px rgba(60, 64, 67, 0.15);\n",
       "      fill: #174EA6;\n",
       "    }\n",
       "\n",
       "    [theme=dark] .colab-df-convert {\n",
       "      background-color: #3B4455;\n",
       "      fill: #D2E3FC;\n",
       "    }\n",
       "\n",
       "    [theme=dark] .colab-df-convert:hover {\n",
       "      background-color: #434B5C;\n",
       "      box-shadow: 0px 1px 3px 1px rgba(0, 0, 0, 0.15);\n",
       "      filter: drop-shadow(0px 1px 2px rgba(0, 0, 0, 0.3));\n",
       "      fill: #FFFFFF;\n",
       "    }\n",
       "  </style>\n",
       "\n",
       "      <script>\n",
       "        const buttonEl =\n",
       "          document.querySelector('#df-746f9bee-ab43-441d-9239-027b4464b968 button.colab-df-convert');\n",
       "        buttonEl.style.display =\n",
       "          google.colab.kernel.accessAllowed ? 'block' : 'none';\n",
       "\n",
       "        async function convertToInteractive(key) {\n",
       "          const element = document.querySelector('#df-746f9bee-ab43-441d-9239-027b4464b968');\n",
       "          const dataTable =\n",
       "            await google.colab.kernel.invokeFunction('convertToInteractive',\n",
       "                                                     [key], {});\n",
       "          if (!dataTable) return;\n",
       "\n",
       "          const docLinkHtml = 'Like what you see? Visit the ' +\n",
       "            '<a target=\"_blank\" href=https://colab.research.google.com/notebooks/data_table.ipynb>data table notebook</a>'\n",
       "            + ' to learn more about interactive tables.';\n",
       "          element.innerHTML = '';\n",
       "          dataTable['output_type'] = 'display_data';\n",
       "          await google.colab.output.renderOutput(dataTable, element);\n",
       "          const docLink = document.createElement('div');\n",
       "          docLink.innerHTML = docLinkHtml;\n",
       "          element.appendChild(docLink);\n",
       "        }\n",
       "      </script>\n",
       "    </div>\n",
       "  </div>\n",
       "  "
      ],
      "text/plain": [
       "            order_id      driver_id           lat           lng    origin_lat  \\\n",
       "count   25871.000000   25871.000000  25871.000000  25871.000000  25871.000000   \n",
       "mean   420032.315025  236950.182869      6.528154      3.389208      6.528024   \n",
       "std     16506.709366   19629.496290      0.071303      0.080260      0.079433   \n",
       "min    392001.000000  121981.000000      6.415885      3.076561      1.000000   \n",
       "25%    405690.500000  243203.000000      6.453507      3.343523      6.455103   \n",
       "50%    420379.000000  243679.000000      6.527532      3.369349      6.527243   \n",
       "75%    434017.500000  244147.000000      6.594942      3.427251      6.594339   \n",
       "max    517948.000000  247877.000000      7.702536      8.515414      8.226835   \n",
       "\n",
       "         origin_lon      dest_lat      dest_lon       distance       duration  \\\n",
       "count  25871.000000  25871.000000  25871.000000   25871.000000   25871.000000   \n",
       "mean       3.389423      6.522929      3.401055   11536.180757    3772.363109   \n",
       "std        0.081154      0.102009      0.098738   12136.372978    7115.513966   \n",
       "min        1.000000      1.000000      1.000000      16.471055      16.000000   \n",
       "25%        3.345503      6.449389      3.346477    5369.247981    1668.000000   \n",
       "50%        3.371989      6.514889      3.379300    9816.814170    2776.000000   \n",
       "75%        3.423915      6.593874      3.460672   15841.895164    4243.000000   \n",
       "max        8.522293      7.703160      8.607887  682878.368122  326248.000000   \n",
       "\n",
       "               year         month          hour  \n",
       "count  25871.000000  25871.000000  25871.000000  \n",
       "mean    2021.000116      6.999536     13.229717  \n",
       "std        0.010768      0.060277      3.102313  \n",
       "min     2021.000000      1.000000      0.000000  \n",
       "25%     2021.000000      7.000000     11.000000  \n",
       "50%     2021.000000      7.000000     13.000000  \n",
       "75%     2021.000000      7.000000     16.000000  \n",
       "max     2022.000000      9.000000     23.000000  "
      ]
     },
     "execution_count": 253,
     "metadata": {},
     "output_type": "execute_result"
    }
   ],
   "source": [
    "df_accepted.describe()"
   ]
  },
  {
   "cell_type": "markdown",
   "metadata": {
    "id": "G_TjG2QfFp0I"
   },
   "source": [
    "## Explore the merged dataset"
   ]
  },
  {
   "cell_type": "markdown",
   "metadata": {
    "id": "aSVoc-rAH1Ut"
   },
   "source": [
    "### overview"
   ]
  },
  {
   "cell_type": "code",
   "execution_count": 254,
   "metadata": {
    "colab": {
     "base_uri": "https://localhost:8080/",
     "height": 364
    },
    "id": "cCcQYKHbSDCf",
    "outputId": "e7551e13-d711-4b48-ebaf-24537686528c"
   },
   "outputs": [
    {
     "data": {
      "text/html": [
       "\n",
       "  <div id=\"df-5b1a46cd-4e6b-4968-94f6-a08116c8b62a\">\n",
       "    <div class=\"colab-df-container\">\n",
       "      <div>\n",
       "<style scoped>\n",
       "    .dataframe tbody tr th:only-of-type {\n",
       "        vertical-align: middle;\n",
       "    }\n",
       "\n",
       "    .dataframe tbody tr th {\n",
       "        vertical-align: top;\n",
       "    }\n",
       "\n",
       "    .dataframe thead th {\n",
       "        text-align: right;\n",
       "    }\n",
       "</style>\n",
       "<table border=\"1\" class=\"dataframe\">\n",
       "  <thead>\n",
       "    <tr style=\"text-align: right;\">\n",
       "      <th></th>\n",
       "      <th>order_id</th>\n",
       "      <th>driver_id</th>\n",
       "      <th>lat</th>\n",
       "      <th>lng</th>\n",
       "      <th>origin_lat</th>\n",
       "      <th>origin_lon</th>\n",
       "      <th>dest_lat</th>\n",
       "      <th>dest_lon</th>\n",
       "      <th>distance</th>\n",
       "      <th>duration</th>\n",
       "      <th>year</th>\n",
       "      <th>month</th>\n",
       "      <th>hour</th>\n",
       "    </tr>\n",
       "  </thead>\n",
       "  <tbody>\n",
       "    <tr>\n",
       "      <th>count</th>\n",
       "      <td>1.555718e+06</td>\n",
       "      <td>1.555718e+06</td>\n",
       "      <td>1.555718e+06</td>\n",
       "      <td>1.555718e+06</td>\n",
       "      <td>1.555718e+06</td>\n",
       "      <td>1.555718e+06</td>\n",
       "      <td>1.555718e+06</td>\n",
       "      <td>1.555718e+06</td>\n",
       "      <td>1.555718e+06</td>\n",
       "      <td>1.555718e+06</td>\n",
       "      <td>1.555718e+06</td>\n",
       "      <td>1.555718e+06</td>\n",
       "      <td>1.555718e+06</td>\n",
       "    </tr>\n",
       "    <tr>\n",
       "      <th>mean</th>\n",
       "      <td>4.191817e+05</td>\n",
       "      <td>2.341504e+05</td>\n",
       "      <td>6.536075e+00</td>\n",
       "      <td>3.378822e+00</td>\n",
       "      <td>6.535654e+00</td>\n",
       "      <td>3.380029e+00</td>\n",
       "      <td>6.536117e+00</td>\n",
       "      <td>3.383491e+00</td>\n",
       "      <td>8.489182e+03</td>\n",
       "      <td>3.705213e+03</td>\n",
       "      <td>2.021000e+03</td>\n",
       "      <td>6.999965e+00</td>\n",
       "      <td>1.356604e+01</td>\n",
       "    </tr>\n",
       "    <tr>\n",
       "      <th>std</th>\n",
       "      <td>1.444435e+04</td>\n",
       "      <td>2.270439e+04</td>\n",
       "      <td>5.995268e-02</td>\n",
       "      <td>5.329471e-02</td>\n",
       "      <td>6.026214e-02</td>\n",
       "      <td>5.275148e-02</td>\n",
       "      <td>7.310955e-02</td>\n",
       "      <td>7.487250e-02</td>\n",
       "      <td>6.349889e+03</td>\n",
       "      <td>7.806279e+03</td>\n",
       "      <td>7.170815e-03</td>\n",
       "      <td>4.028703e-02</td>\n",
       "      <td>3.026006e+00</td>\n",
       "    </tr>\n",
       "    <tr>\n",
       "      <th>min</th>\n",
       "      <td>3.920010e+05</td>\n",
       "      <td>1.219810e+05</td>\n",
       "      <td>6.409333e+00</td>\n",
       "      <td>3.076561e+00</td>\n",
       "      <td>1.000000e+00</td>\n",
       "      <td>1.000000e+00</td>\n",
       "      <td>1.000000e+00</td>\n",
       "      <td>1.000000e+00</td>\n",
       "      <td>1.647106e+01</td>\n",
       "      <td>1.600000e+01</td>\n",
       "      <td>2.021000e+03</td>\n",
       "      <td>1.000000e+00</td>\n",
       "      <td>0.000000e+00</td>\n",
       "    </tr>\n",
       "    <tr>\n",
       "      <th>25%</th>\n",
       "      <td>4.067520e+05</td>\n",
       "      <td>2.429970e+05</td>\n",
       "      <td>6.498708e+00</td>\n",
       "      <td>3.348810e+00</td>\n",
       "      <td>6.499314e+00</td>\n",
       "      <td>3.350294e+00</td>\n",
       "      <td>6.465051e+00</td>\n",
       "      <td>3.342701e+00</td>\n",
       "      <td>4.008269e+03</td>\n",
       "      <td>1.722000e+03</td>\n",
       "      <td>2.021000e+03</td>\n",
       "      <td>7.000000e+00</td>\n",
       "      <td>1.100000e+01</td>\n",
       "    </tr>\n",
       "    <tr>\n",
       "      <th>50%</th>\n",
       "      <td>4.216870e+05</td>\n",
       "      <td>2.435890e+05</td>\n",
       "      <td>6.544250e+00</td>\n",
       "      <td>3.363503e+00</td>\n",
       "      <td>6.537572e+00</td>\n",
       "      <td>3.368576e+00</td>\n",
       "      <td>6.536838e+00</td>\n",
       "      <td>3.369805e+00</td>\n",
       "      <td>6.919488e+03</td>\n",
       "      <td>2.608000e+03</td>\n",
       "      <td>2.021000e+03</td>\n",
       "      <td>7.000000e+00</td>\n",
       "      <td>1.400000e+01</td>\n",
       "    </tr>\n",
       "    <tr>\n",
       "      <th>75%</th>\n",
       "      <td>4.293130e+05</td>\n",
       "      <td>2.440560e+05</td>\n",
       "      <td>6.593277e+00</td>\n",
       "      <td>3.385168e+00</td>\n",
       "      <td>6.591381e+00</td>\n",
       "      <td>3.387167e+00</td>\n",
       "      <td>6.596473e+00</td>\n",
       "      <td>3.406328e+00</td>\n",
       "      <td>1.131920e+04</td>\n",
       "      <td>3.922000e+03</td>\n",
       "      <td>2.021000e+03</td>\n",
       "      <td>7.000000e+00</td>\n",
       "      <td>1.600000e+01</td>\n",
       "    </tr>\n",
       "    <tr>\n",
       "      <th>max</th>\n",
       "      <td>5.179480e+05</td>\n",
       "      <td>2.478770e+05</td>\n",
       "      <td>7.702536e+00</td>\n",
       "      <td>8.515414e+00</td>\n",
       "      <td>8.226835e+00</td>\n",
       "      <td>8.522293e+00</td>\n",
       "      <td>7.703160e+00</td>\n",
       "      <td>8.607887e+00</td>\n",
       "      <td>6.828784e+05</td>\n",
       "      <td>2.234210e+06</td>\n",
       "      <td>2.022000e+03</td>\n",
       "      <td>9.000000e+00</td>\n",
       "      <td>2.300000e+01</td>\n",
       "    </tr>\n",
       "  </tbody>\n",
       "</table>\n",
       "</div>\n",
       "      <button class=\"colab-df-convert\" onclick=\"convertToInteractive('df-5b1a46cd-4e6b-4968-94f6-a08116c8b62a')\"\n",
       "              title=\"Convert this dataframe to an interactive table.\"\n",
       "              style=\"display:none;\">\n",
       "        \n",
       "  <svg xmlns=\"http://www.w3.org/2000/svg\" height=\"24px\"viewBox=\"0 0 24 24\"\n",
       "       width=\"24px\">\n",
       "    <path d=\"M0 0h24v24H0V0z\" fill=\"none\"/>\n",
       "    <path d=\"M18.56 5.44l.94 2.06.94-2.06 2.06-.94-2.06-.94-.94-2.06-.94 2.06-2.06.94zm-11 1L8.5 8.5l.94-2.06 2.06-.94-2.06-.94L8.5 2.5l-.94 2.06-2.06.94zm10 10l.94 2.06.94-2.06 2.06-.94-2.06-.94-.94-2.06-.94 2.06-2.06.94z\"/><path d=\"M17.41 7.96l-1.37-1.37c-.4-.4-.92-.59-1.43-.59-.52 0-1.04.2-1.43.59L10.3 9.45l-7.72 7.72c-.78.78-.78 2.05 0 2.83L4 21.41c.39.39.9.59 1.41.59.51 0 1.02-.2 1.41-.59l7.78-7.78 2.81-2.81c.8-.78.8-2.07 0-2.86zM5.41 20L4 18.59l7.72-7.72 1.47 1.35L5.41 20z\"/>\n",
       "  </svg>\n",
       "      </button>\n",
       "      \n",
       "  <style>\n",
       "    .colab-df-container {\n",
       "      display:flex;\n",
       "      flex-wrap:wrap;\n",
       "      gap: 12px;\n",
       "    }\n",
       "\n",
       "    .colab-df-convert {\n",
       "      background-color: #E8F0FE;\n",
       "      border: none;\n",
       "      border-radius: 50%;\n",
       "      cursor: pointer;\n",
       "      display: none;\n",
       "      fill: #1967D2;\n",
       "      height: 32px;\n",
       "      padding: 0 0 0 0;\n",
       "      width: 32px;\n",
       "    }\n",
       "\n",
       "    .colab-df-convert:hover {\n",
       "      background-color: #E2EBFA;\n",
       "      box-shadow: 0px 1px 2px rgba(60, 64, 67, 0.3), 0px 1px 3px 1px rgba(60, 64, 67, 0.15);\n",
       "      fill: #174EA6;\n",
       "    }\n",
       "\n",
       "    [theme=dark] .colab-df-convert {\n",
       "      background-color: #3B4455;\n",
       "      fill: #D2E3FC;\n",
       "    }\n",
       "\n",
       "    [theme=dark] .colab-df-convert:hover {\n",
       "      background-color: #434B5C;\n",
       "      box-shadow: 0px 1px 3px 1px rgba(0, 0, 0, 0.15);\n",
       "      filter: drop-shadow(0px 1px 2px rgba(0, 0, 0, 0.3));\n",
       "      fill: #FFFFFF;\n",
       "    }\n",
       "  </style>\n",
       "\n",
       "      <script>\n",
       "        const buttonEl =\n",
       "          document.querySelector('#df-5b1a46cd-4e6b-4968-94f6-a08116c8b62a button.colab-df-convert');\n",
       "        buttonEl.style.display =\n",
       "          google.colab.kernel.accessAllowed ? 'block' : 'none';\n",
       "\n",
       "        async function convertToInteractive(key) {\n",
       "          const element = document.querySelector('#df-5b1a46cd-4e6b-4968-94f6-a08116c8b62a');\n",
       "          const dataTable =\n",
       "            await google.colab.kernel.invokeFunction('convertToInteractive',\n",
       "                                                     [key], {});\n",
       "          if (!dataTable) return;\n",
       "\n",
       "          const docLinkHtml = 'Like what you see? Visit the ' +\n",
       "            '<a target=\"_blank\" href=https://colab.research.google.com/notebooks/data_table.ipynb>data table notebook</a>'\n",
       "            + ' to learn more about interactive tables.';\n",
       "          element.innerHTML = '';\n",
       "          dataTable['output_type'] = 'display_data';\n",
       "          await google.colab.output.renderOutput(dataTable, element);\n",
       "          const docLink = document.createElement('div');\n",
       "          docLink.innerHTML = docLinkHtml;\n",
       "          element.appendChild(docLink);\n",
       "        }\n",
       "      </script>\n",
       "    </div>\n",
       "  </div>\n",
       "  "
      ],
      "text/plain": [
       "           order_id     driver_id           lat           lng    origin_lat  \\\n",
       "count  1.555718e+06  1.555718e+06  1.555718e+06  1.555718e+06  1.555718e+06   \n",
       "mean   4.191817e+05  2.341504e+05  6.536075e+00  3.378822e+00  6.535654e+00   \n",
       "std    1.444435e+04  2.270439e+04  5.995268e-02  5.329471e-02  6.026214e-02   \n",
       "min    3.920010e+05  1.219810e+05  6.409333e+00  3.076561e+00  1.000000e+00   \n",
       "25%    4.067520e+05  2.429970e+05  6.498708e+00  3.348810e+00  6.499314e+00   \n",
       "50%    4.216870e+05  2.435890e+05  6.544250e+00  3.363503e+00  6.537572e+00   \n",
       "75%    4.293130e+05  2.440560e+05  6.593277e+00  3.385168e+00  6.591381e+00   \n",
       "max    5.179480e+05  2.478770e+05  7.702536e+00  8.515414e+00  8.226835e+00   \n",
       "\n",
       "         origin_lon      dest_lat      dest_lon      distance      duration  \\\n",
       "count  1.555718e+06  1.555718e+06  1.555718e+06  1.555718e+06  1.555718e+06   \n",
       "mean   3.380029e+00  6.536117e+00  3.383491e+00  8.489182e+03  3.705213e+03   \n",
       "std    5.275148e-02  7.310955e-02  7.487250e-02  6.349889e+03  7.806279e+03   \n",
       "min    1.000000e+00  1.000000e+00  1.000000e+00  1.647106e+01  1.600000e+01   \n",
       "25%    3.350294e+00  6.465051e+00  3.342701e+00  4.008269e+03  1.722000e+03   \n",
       "50%    3.368576e+00  6.536838e+00  3.369805e+00  6.919488e+03  2.608000e+03   \n",
       "75%    3.387167e+00  6.596473e+00  3.406328e+00  1.131920e+04  3.922000e+03   \n",
       "max    8.522293e+00  7.703160e+00  8.607887e+00  6.828784e+05  2.234210e+06   \n",
       "\n",
       "               year         month          hour  \n",
       "count  1.555718e+06  1.555718e+06  1.555718e+06  \n",
       "mean   2.021000e+03  6.999965e+00  1.356604e+01  \n",
       "std    7.170815e-03  4.028703e-02  3.026006e+00  \n",
       "min    2.021000e+03  1.000000e+00  0.000000e+00  \n",
       "25%    2.021000e+03  7.000000e+00  1.100000e+01  \n",
       "50%    2.021000e+03  7.000000e+00  1.400000e+01  \n",
       "75%    2.021000e+03  7.000000e+00  1.600000e+01  \n",
       "max    2.022000e+03  9.000000e+00  2.300000e+01  "
      ]
     },
     "execution_count": 254,
     "metadata": {},
     "output_type": "execute_result"
    }
   ],
   "source": [
    "df.describe()"
   ]
  },
  {
   "cell_type": "markdown",
   "metadata": {
    "id": "OCemoIcx5YXD"
   },
   "source": [
    "### Holiday Mapping"
   ]
  },
  {
   "cell_type": "code",
   "execution_count": null,
   "metadata": {
    "id": "VyR590RVklQG"
   },
   "outputs": [],
   "source": [
    "# !pip install holidays\n",
    "# import holidays\n"
   ]
  },
  {
   "cell_type": "code",
   "execution_count": null,
   "metadata": {
    "id": "yntgJQugksz2"
   },
   "outputs": [],
   "source": [
    "# us_holidays = holidays.NG()\n",
    "# df_order['holidays']=df_order.trip_start_time.isin(us_holidays)*1"
   ]
  },
  {
   "cell_type": "code",
   "execution_count": 257,
   "metadata": {
    "id": "EgDdl9DctH3G"
   },
   "outputs": [],
   "source": [
    "from pandas.tseries.holiday import *\n",
    "from pandas.tseries.offsets import CustomBusinessDay\n",
    "\n",
    "class NigeriaCalendar(AbstractHolidayCalendar):\n",
    "   rules = [\n",
    "     Holiday('New Year', month=1, day=1, observance=sunday_to_monday),\n",
    "     Holiday('Good Friday', month=4, day=2, observance=sunday_to_monday),\n",
    "     Holiday('Easter Monday', month=4, day=5, observance=sunday_to_monday),\n",
    "     Holiday('Workers Day', month=5, day=1,observance=sunday_to_monday),\n",
    "     Holiday('Eid-el-fitri Sallah Holiday', month=5, day=12),\n",
    "     Holiday('Democracy Day', month=6, day=14, observance=sunday_to_monday),\n",
    "     Holiday('Id el Kabir', month=7, day=20, observance=nearest_workday),\n",
    "     Holiday('Id el Kabir Holiday', month=7, day=21, observance=sunday_to_monday),\n",
    "     Holiday('Independence Day', month=10, day=1, observance=sunday_to_monday),\n",
    "     Holiday('Eidul-Mawlid', month=10, day=19, observance=nearest_workday),\n",
    "     Holiday('Christmas Day', month=12, day=25, observance=nearest_workday),\n",
    "     Holiday('Boxing Day', month=12, day=26),\n",
    "     Holiday('Christmas Day', month=12, day=27, observance=nearest_workday),\n",
    "     Holiday('Boxing Day', month=12, day=28)\n",
    "   ]\n",
    "\n"
   ]
  },
  {
   "cell_type": "code",
   "execution_count": 258,
   "metadata": {
    "id": "6eHYm5dqzmp_"
   },
   "outputs": [],
   "source": [
    "# NC = CustomBusinessDay(calendar=NigeriaCalendar())\n",
    "# s = pd.date_range('2021-12-01', end='2021-12-28', freq=NC)\n",
    "# df = pd.DataFrame(s, columns=['Date'])\n",
    "# print(df)"
   ]
  },
  {
   "cell_type": "code",
   "execution_count": 259,
   "metadata": {
    "id": "jlcJ0ubkIpaw"
   },
   "outputs": [],
   "source": [
    "NC = CustomBusinessDay(calendar=NigeriaCalendar())\n",
    "total = pd.date_range(start=df.trip_start_time.dt.date.unique().min(), end=df.trip_start_time.dt.date.unique().max())\n",
    "working = pd.date_range(start=df.trip_start_time.dt.date.unique().min(), end=df.trip_start_time.dt.date.unique().max(), freq=NC)\n",
    "# df = pd.DataFrame(s, columns=['Date'])\n"
   ]
  },
  {
   "cell_type": "code",
   "execution_count": 260,
   "metadata": {
    "id": "CmzeJKngNLQ0"
   },
   "outputs": [],
   "source": [
    "holiday = set(total.date)-set(working.date)\n"
   ]
  },
  {
   "cell_type": "code",
   "execution_count": 261,
   "metadata": {
    "id": "9hqRS8gHJk9a"
   },
   "outputs": [],
   "source": [
    "df['isHoliday'] = df.trip_start_time.dt.date.isin(holiday)*1"
   ]
  },
  {
   "cell_type": "code",
   "execution_count": 263,
   "metadata": {
    "colab": {
     "base_uri": "https://localhost:8080/"
    },
    "id": "HZSCyewFP_YC",
    "outputId": "4bb7cf2c-f435-4b69-a447-86adb8f47adb"
   },
   "outputs": [
    {
     "data": {
      "text/plain": [
       "0    87.15217\n",
       "1    12.84783\n",
       "Name: isHoliday, dtype: float64"
      ]
     },
     "execution_count": 263,
     "metadata": {},
     "output_type": "execute_result"
    }
   ],
   "source": [
    "df['isHoliday'].value_counts()/df.shape[0] *100"
   ]
  },
  {
   "cell_type": "code",
   "execution_count": null,
   "metadata": {
    "id": "Q8pjvVFhN7Bk"
   },
   "outputs": [],
   "source": []
  },
  {
   "cell_type": "code",
   "execution_count": 266,
   "metadata": {
    "id": "TucOKwOAF0n2"
   },
   "outputs": [],
   "source": [
    "df['driver_proximity'] = df.apply(lambda row: GRC( (row['lat'], row['lng']),(row['origin_lat'], row['origin_lon'])).m, axis=1)\n"
   ]
  },
  {
   "cell_type": "code",
   "execution_count": null,
   "metadata": {
    "id": "H8EW7fJokns9"
   },
   "outputs": [],
   "source": [
    "df.head()"
   ]
  },
  {
   "cell_type": "code",
   "execution_count": 269,
   "metadata": {
    "colab": {
     "base_uri": "https://localhost:8080/",
     "height": 364
    },
    "id": "oCbKXXM-Fib3",
    "outputId": "99128468-11ac-437e-a8f3-510beb3764f2"
   },
   "outputs": [
    {
     "data": {
      "text/html": [
       "\n",
       "  <div id=\"df-7f28c1a8-1c47-4ae9-86d6-18a40b111c10\">\n",
       "    <div class=\"colab-df-container\">\n",
       "      <div>\n",
       "<style scoped>\n",
       "    .dataframe tbody tr th:only-of-type {\n",
       "        vertical-align: middle;\n",
       "    }\n",
       "\n",
       "    .dataframe tbody tr th {\n",
       "        vertical-align: top;\n",
       "    }\n",
       "\n",
       "    .dataframe thead th {\n",
       "        text-align: right;\n",
       "    }\n",
       "</style>\n",
       "<table border=\"1\" class=\"dataframe\">\n",
       "  <thead>\n",
       "    <tr style=\"text-align: right;\">\n",
       "      <th></th>\n",
       "      <th>order_id</th>\n",
       "      <th>driver_id</th>\n",
       "      <th>lat</th>\n",
       "      <th>lng</th>\n",
       "      <th>origin_lat</th>\n",
       "      <th>origin_lon</th>\n",
       "      <th>dest_lat</th>\n",
       "      <th>dest_lon</th>\n",
       "      <th>distance</th>\n",
       "      <th>duration</th>\n",
       "      <th>year</th>\n",
       "      <th>month</th>\n",
       "      <th>hour</th>\n",
       "      <th>isHoliday</th>\n",
       "      <th>driver_proximity</th>\n",
       "    </tr>\n",
       "  </thead>\n",
       "  <tbody>\n",
       "    <tr>\n",
       "      <th>count</th>\n",
       "      <td>1.555718e+06</td>\n",
       "      <td>1.555718e+06</td>\n",
       "      <td>1.555718e+06</td>\n",
       "      <td>1.555718e+06</td>\n",
       "      <td>1.555718e+06</td>\n",
       "      <td>1.555718e+06</td>\n",
       "      <td>1.555718e+06</td>\n",
       "      <td>1.555718e+06</td>\n",
       "      <td>1.555718e+06</td>\n",
       "      <td>1.555718e+06</td>\n",
       "      <td>1.555718e+06</td>\n",
       "      <td>1.555718e+06</td>\n",
       "      <td>1.555718e+06</td>\n",
       "      <td>1.555718e+06</td>\n",
       "      <td>1.555718e+06</td>\n",
       "    </tr>\n",
       "    <tr>\n",
       "      <th>mean</th>\n",
       "      <td>4.191817e+05</td>\n",
       "      <td>2.341504e+05</td>\n",
       "      <td>6.536075e+00</td>\n",
       "      <td>3.378822e+00</td>\n",
       "      <td>6.535654e+00</td>\n",
       "      <td>3.380029e+00</td>\n",
       "      <td>6.536117e+00</td>\n",
       "      <td>3.383491e+00</td>\n",
       "      <td>8.489182e+03</td>\n",
       "      <td>3.705213e+03</td>\n",
       "      <td>2.021000e+03</td>\n",
       "      <td>6.999965e+00</td>\n",
       "      <td>1.356604e+01</td>\n",
       "      <td>1.284783e-01</td>\n",
       "      <td>1.821102e+03</td>\n",
       "    </tr>\n",
       "    <tr>\n",
       "      <th>std</th>\n",
       "      <td>1.444435e+04</td>\n",
       "      <td>2.270439e+04</td>\n",
       "      <td>5.995268e-02</td>\n",
       "      <td>5.329471e-02</td>\n",
       "      <td>6.026214e-02</td>\n",
       "      <td>5.275148e-02</td>\n",
       "      <td>7.310955e-02</td>\n",
       "      <td>7.487250e-02</td>\n",
       "      <td>6.349889e+03</td>\n",
       "      <td>7.806279e+03</td>\n",
       "      <td>7.170815e-03</td>\n",
       "      <td>4.028703e-02</td>\n",
       "      <td>3.026006e+00</td>\n",
       "      <td>3.346217e-01</td>\n",
       "      <td>1.166246e+03</td>\n",
       "    </tr>\n",
       "    <tr>\n",
       "      <th>min</th>\n",
       "      <td>3.920010e+05</td>\n",
       "      <td>1.219810e+05</td>\n",
       "      <td>6.409333e+00</td>\n",
       "      <td>3.076561e+00</td>\n",
       "      <td>1.000000e+00</td>\n",
       "      <td>1.000000e+00</td>\n",
       "      <td>1.000000e+00</td>\n",
       "      <td>1.000000e+00</td>\n",
       "      <td>1.647106e+01</td>\n",
       "      <td>1.600000e+01</td>\n",
       "      <td>2.021000e+03</td>\n",
       "      <td>1.000000e+00</td>\n",
       "      <td>0.000000e+00</td>\n",
       "      <td>0.000000e+00</td>\n",
       "      <td>0.000000e+00</td>\n",
       "    </tr>\n",
       "    <tr>\n",
       "      <th>25%</th>\n",
       "      <td>4.067520e+05</td>\n",
       "      <td>2.429970e+05</td>\n",
       "      <td>6.498708e+00</td>\n",
       "      <td>3.348810e+00</td>\n",
       "      <td>6.499314e+00</td>\n",
       "      <td>3.350294e+00</td>\n",
       "      <td>6.465051e+00</td>\n",
       "      <td>3.342701e+00</td>\n",
       "      <td>4.008269e+03</td>\n",
       "      <td>1.722000e+03</td>\n",
       "      <td>2.021000e+03</td>\n",
       "      <td>7.000000e+00</td>\n",
       "      <td>1.100000e+01</td>\n",
       "      <td>0.000000e+00</td>\n",
       "      <td>1.108226e+03</td>\n",
       "    </tr>\n",
       "    <tr>\n",
       "      <th>50%</th>\n",
       "      <td>4.216870e+05</td>\n",
       "      <td>2.435890e+05</td>\n",
       "      <td>6.544250e+00</td>\n",
       "      <td>3.363503e+00</td>\n",
       "      <td>6.537572e+00</td>\n",
       "      <td>3.368576e+00</td>\n",
       "      <td>6.536838e+00</td>\n",
       "      <td>3.369805e+00</td>\n",
       "      <td>6.919488e+03</td>\n",
       "      <td>2.608000e+03</td>\n",
       "      <td>2.021000e+03</td>\n",
       "      <td>7.000000e+00</td>\n",
       "      <td>1.400000e+01</td>\n",
       "      <td>0.000000e+00</td>\n",
       "      <td>1.717132e+03</td>\n",
       "    </tr>\n",
       "    <tr>\n",
       "      <th>75%</th>\n",
       "      <td>4.293130e+05</td>\n",
       "      <td>2.440560e+05</td>\n",
       "      <td>6.593277e+00</td>\n",
       "      <td>3.385168e+00</td>\n",
       "      <td>6.591381e+00</td>\n",
       "      <td>3.387167e+00</td>\n",
       "      <td>6.596473e+00</td>\n",
       "      <td>3.406328e+00</td>\n",
       "      <td>1.131920e+04</td>\n",
       "      <td>3.922000e+03</td>\n",
       "      <td>2.021000e+03</td>\n",
       "      <td>7.000000e+00</td>\n",
       "      <td>1.600000e+01</td>\n",
       "      <td>0.000000e+00</td>\n",
       "      <td>2.435290e+03</td>\n",
       "    </tr>\n",
       "    <tr>\n",
       "      <th>max</th>\n",
       "      <td>5.179480e+05</td>\n",
       "      <td>2.478770e+05</td>\n",
       "      <td>7.702536e+00</td>\n",
       "      <td>8.515414e+00</td>\n",
       "      <td>8.226835e+00</td>\n",
       "      <td>8.522293e+00</td>\n",
       "      <td>7.703160e+00</td>\n",
       "      <td>8.607887e+00</td>\n",
       "      <td>6.828784e+05</td>\n",
       "      <td>2.234210e+06</td>\n",
       "      <td>2.022000e+03</td>\n",
       "      <td>9.000000e+00</td>\n",
       "      <td>2.300000e+01</td>\n",
       "      <td>1.000000e+00</td>\n",
       "      <td>6.590527e+05</td>\n",
       "    </tr>\n",
       "  </tbody>\n",
       "</table>\n",
       "</div>\n",
       "      <button class=\"colab-df-convert\" onclick=\"convertToInteractive('df-7f28c1a8-1c47-4ae9-86d6-18a40b111c10')\"\n",
       "              title=\"Convert this dataframe to an interactive table.\"\n",
       "              style=\"display:none;\">\n",
       "        \n",
       "  <svg xmlns=\"http://www.w3.org/2000/svg\" height=\"24px\"viewBox=\"0 0 24 24\"\n",
       "       width=\"24px\">\n",
       "    <path d=\"M0 0h24v24H0V0z\" fill=\"none\"/>\n",
       "    <path d=\"M18.56 5.44l.94 2.06.94-2.06 2.06-.94-2.06-.94-.94-2.06-.94 2.06-2.06.94zm-11 1L8.5 8.5l.94-2.06 2.06-.94-2.06-.94L8.5 2.5l-.94 2.06-2.06.94zm10 10l.94 2.06.94-2.06 2.06-.94-2.06-.94-.94-2.06-.94 2.06-2.06.94z\"/><path d=\"M17.41 7.96l-1.37-1.37c-.4-.4-.92-.59-1.43-.59-.52 0-1.04.2-1.43.59L10.3 9.45l-7.72 7.72c-.78.78-.78 2.05 0 2.83L4 21.41c.39.39.9.59 1.41.59.51 0 1.02-.2 1.41-.59l7.78-7.78 2.81-2.81c.8-.78.8-2.07 0-2.86zM5.41 20L4 18.59l7.72-7.72 1.47 1.35L5.41 20z\"/>\n",
       "  </svg>\n",
       "      </button>\n",
       "      \n",
       "  <style>\n",
       "    .colab-df-container {\n",
       "      display:flex;\n",
       "      flex-wrap:wrap;\n",
       "      gap: 12px;\n",
       "    }\n",
       "\n",
       "    .colab-df-convert {\n",
       "      background-color: #E8F0FE;\n",
       "      border: none;\n",
       "      border-radius: 50%;\n",
       "      cursor: pointer;\n",
       "      display: none;\n",
       "      fill: #1967D2;\n",
       "      height: 32px;\n",
       "      padding: 0 0 0 0;\n",
       "      width: 32px;\n",
       "    }\n",
       "\n",
       "    .colab-df-convert:hover {\n",
       "      background-color: #E2EBFA;\n",
       "      box-shadow: 0px 1px 2px rgba(60, 64, 67, 0.3), 0px 1px 3px 1px rgba(60, 64, 67, 0.15);\n",
       "      fill: #174EA6;\n",
       "    }\n",
       "\n",
       "    [theme=dark] .colab-df-convert {\n",
       "      background-color: #3B4455;\n",
       "      fill: #D2E3FC;\n",
       "    }\n",
       "\n",
       "    [theme=dark] .colab-df-convert:hover {\n",
       "      background-color: #434B5C;\n",
       "      box-shadow: 0px 1px 3px 1px rgba(0, 0, 0, 0.15);\n",
       "      filter: drop-shadow(0px 1px 2px rgba(0, 0, 0, 0.3));\n",
       "      fill: #FFFFFF;\n",
       "    }\n",
       "  </style>\n",
       "\n",
       "      <script>\n",
       "        const buttonEl =\n",
       "          document.querySelector('#df-7f28c1a8-1c47-4ae9-86d6-18a40b111c10 button.colab-df-convert');\n",
       "        buttonEl.style.display =\n",
       "          google.colab.kernel.accessAllowed ? 'block' : 'none';\n",
       "\n",
       "        async function convertToInteractive(key) {\n",
       "          const element = document.querySelector('#df-7f28c1a8-1c47-4ae9-86d6-18a40b111c10');\n",
       "          const dataTable =\n",
       "            await google.colab.kernel.invokeFunction('convertToInteractive',\n",
       "                                                     [key], {});\n",
       "          if (!dataTable) return;\n",
       "\n",
       "          const docLinkHtml = 'Like what you see? Visit the ' +\n",
       "            '<a target=\"_blank\" href=https://colab.research.google.com/notebooks/data_table.ipynb>data table notebook</a>'\n",
       "            + ' to learn more about interactive tables.';\n",
       "          element.innerHTML = '';\n",
       "          dataTable['output_type'] = 'display_data';\n",
       "          await google.colab.output.renderOutput(dataTable, element);\n",
       "          const docLink = document.createElement('div');\n",
       "          docLink.innerHTML = docLinkHtml;\n",
       "          element.appendChild(docLink);\n",
       "        }\n",
       "      </script>\n",
       "    </div>\n",
       "  </div>\n",
       "  "
      ],
      "text/plain": [
       "           order_id     driver_id           lat           lng    origin_lat  \\\n",
       "count  1.555718e+06  1.555718e+06  1.555718e+06  1.555718e+06  1.555718e+06   \n",
       "mean   4.191817e+05  2.341504e+05  6.536075e+00  3.378822e+00  6.535654e+00   \n",
       "std    1.444435e+04  2.270439e+04  5.995268e-02  5.329471e-02  6.026214e-02   \n",
       "min    3.920010e+05  1.219810e+05  6.409333e+00  3.076561e+00  1.000000e+00   \n",
       "25%    4.067520e+05  2.429970e+05  6.498708e+00  3.348810e+00  6.499314e+00   \n",
       "50%    4.216870e+05  2.435890e+05  6.544250e+00  3.363503e+00  6.537572e+00   \n",
       "75%    4.293130e+05  2.440560e+05  6.593277e+00  3.385168e+00  6.591381e+00   \n",
       "max    5.179480e+05  2.478770e+05  7.702536e+00  8.515414e+00  8.226835e+00   \n",
       "\n",
       "         origin_lon      dest_lat      dest_lon      distance      duration  \\\n",
       "count  1.555718e+06  1.555718e+06  1.555718e+06  1.555718e+06  1.555718e+06   \n",
       "mean   3.380029e+00  6.536117e+00  3.383491e+00  8.489182e+03  3.705213e+03   \n",
       "std    5.275148e-02  7.310955e-02  7.487250e-02  6.349889e+03  7.806279e+03   \n",
       "min    1.000000e+00  1.000000e+00  1.000000e+00  1.647106e+01  1.600000e+01   \n",
       "25%    3.350294e+00  6.465051e+00  3.342701e+00  4.008269e+03  1.722000e+03   \n",
       "50%    3.368576e+00  6.536838e+00  3.369805e+00  6.919488e+03  2.608000e+03   \n",
       "75%    3.387167e+00  6.596473e+00  3.406328e+00  1.131920e+04  3.922000e+03   \n",
       "max    8.522293e+00  7.703160e+00  8.607887e+00  6.828784e+05  2.234210e+06   \n",
       "\n",
       "               year         month          hour     isHoliday  \\\n",
       "count  1.555718e+06  1.555718e+06  1.555718e+06  1.555718e+06   \n",
       "mean   2.021000e+03  6.999965e+00  1.356604e+01  1.284783e-01   \n",
       "std    7.170815e-03  4.028703e-02  3.026006e+00  3.346217e-01   \n",
       "min    2.021000e+03  1.000000e+00  0.000000e+00  0.000000e+00   \n",
       "25%    2.021000e+03  7.000000e+00  1.100000e+01  0.000000e+00   \n",
       "50%    2.021000e+03  7.000000e+00  1.400000e+01  0.000000e+00   \n",
       "75%    2.021000e+03  7.000000e+00  1.600000e+01  0.000000e+00   \n",
       "max    2.022000e+03  9.000000e+00  2.300000e+01  1.000000e+00   \n",
       "\n",
       "       driver_proximity  \n",
       "count      1.555718e+06  \n",
       "mean       1.821102e+03  \n",
       "std        1.166246e+03  \n",
       "min        0.000000e+00  \n",
       "25%        1.108226e+03  \n",
       "50%        1.717132e+03  \n",
       "75%        2.435290e+03  \n",
       "max        6.590527e+05  "
      ]
     },
     "execution_count": 269,
     "metadata": {},
     "output_type": "execute_result"
    }
   ],
   "source": [
    "df.describe()"
   ]
  },
  {
   "cell_type": "code",
   "execution_count": 270,
   "metadata": {
    "id": "t4uojlHqktMM"
   },
   "outputs": [],
   "source": [
    "df.to_csv('df.csv',index_label=None)"
   ]
  },
  {
   "cell_type": "code",
   "execution_count": 271,
   "metadata": {
    "id": "5xB6BLKilsQE"
   },
   "outputs": [],
   "source": [
    "df_accepted.to_csv('df_accepted',index_label=None)"
   ]
  }
 ],
 "metadata": {
  "colab": {
   "collapsed_sections": [],
   "provenance": []
  },
  "kernelspec": {
   "display_name": "Python 3 (ipykernel)",
   "language": "python",
   "name": "python3"
  },
  "language_info": {
   "codemirror_mode": {
    "name": "ipython",
    "version": 3
   },
   "file_extension": ".py",
   "mimetype": "text/x-python",
   "name": "python",
   "nbconvert_exporter": "python",
   "pygments_lexer": "ipython3",
   "version": "3.9.12"
  }
 },
 "nbformat": 4,
 "nbformat_minor": 1
}
